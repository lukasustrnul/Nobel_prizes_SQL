{
 "cells": [
  {
   "cell_type": "markdown",
   "id": "a6ed7053",
   "metadata": {},
   "source": [
    "# Nobel Prize analysis in SQL\n",
    "\n",
    "## Import of data, libraries and making it ready to work with SQL"
   ]
  },
  {
   "cell_type": "code",
   "execution_count": null,
   "id": "760aadb0",
   "metadata": {},
   "outputs": [],
   "source": [
    "# import librariesa\n",
    "import pandas as pd\n",
    "import sqlite3"
   ]
  },
  {
   "cell_type": "code",
   "execution_count": null,
   "id": "56a4fb55",
   "metadata": {},
   "outputs": [],
   "source": [
    "# install the ipython-sql libray\n",
    "!pip install ipython-sql "
   ]
  },
  {
   "cell_type": "code",
   "execution_count": null,
   "id": "eb46f456",
   "metadata": {},
   "outputs": [],
   "source": [
    "# read the csv file to pandas dataframe\n",
    "df = pd.read_csv('nobel.csv')"
   ]
  },
  {
   "cell_type": "code",
   "execution_count": null,
   "id": "7be34cc0",
   "metadata": {},
   "outputs": [],
   "source": [
    "# We will use sqlite3 library and create a connection\n",
    "cnn = sqlite3.connect('jupyter_sql_nobel.db')\n",
    "df.to_sql('nobel', cnn, if_exists='replace')\n",
    "%load_ext sql\n",
    "%sql sqlite:///jupyter_sql_nobel.db"
   ]
  },
  {
   "cell_type": "markdown",
   "id": "d94d5da3",
   "metadata": {},
   "source": [
    "## Check of the data"
   ]
  },
  {
   "cell_type": "code",
   "execution_count": null,
   "id": "ea5c1ef4",
   "metadata": {},
   "outputs": [],
   "source": [
    "%%sql\n",
    "/* check general information about the data*/\n",
    "PRAGMA table_info(nobel);"
   ]
  },
  {
   "cell_type": "code",
   "execution_count": null,
   "id": "b8a342d8",
   "metadata": {},
   "outputs": [],
   "source": [
    "%%sql\n",
    "/* check first row to get idea how the data looks */\n",
    "SELECT *\n",
    "FROM nobel\n",
    "LIMIT 1;"
   ]
  },
  {
   "cell_type": "code",
   "execution_count": null,
   "id": "b3a64833",
   "metadata": {},
   "outputs": [],
   "source": [
    "%%sql\n",
    "/* We are going to use birth_date and death_date in many queries; \n",
    "therefore, it is important to check that values are valid \n",
    "and we can do calculations with them using date and time functions. \n",
    "SQLite does not have a storage class set aside for storing dates and/or times. \n",
    "Instead, the built-in Date And Time Functions of SQLite are capable of storing\n",
    "dates and times as TEXT, REAL, or INTEGER values.\n",
    "See here: https://www.sqlite.org/datatype3.html */\n",
    "\n",
    "        \n",
    "SELECT\n",
    "laureate_id,\n",
    "birth_date,\n",
    "strftime('%Y',birth_date) AS birth_strf\n",
    "FROM nobel\n",
    "WHERE birth_date IS NOT NULL AND birth_strf IS NULL;"
   ]
  },
  {
   "cell_type": "code",
   "execution_count": null,
   "id": "dc47cf30",
   "metadata": {},
   "outputs": [],
   "source": [
    "%%sql\n",
    "/* Same check as in previous cell but for the death date*/\n",
    "\n",
    "        \n",
    "SELECT\n",
    "laureate_id,\n",
    "death_date,\n",
    "strftime('%Y',death_date) AS death_strf\n",
    "FROM nobel\n",
    "WHERE death_date IS NOT NULL AND death_strf IS NULL;"
   ]
  },
  {
   "cell_type": "markdown",
   "id": "6727169f",
   "metadata": {},
   "source": [
    "### Birth_date issue and its solution\n",
    "We can see that death dates are not cousing problems but some birth dates has a format YYYY-00-00. This is not recognized by time and date functions (e.g.: strftime, julianday) as a date and returns NULL values instead of year if we use strftime('%Y',birth_date). Therefore, these birth dates cannot be used to calculate age.\n",
    "\n",
    "To clean this, the problematic birth_date values has to be removed or the dates changed to valid date. I have decided for the latter. If we change YYYY-00-00 to YYYY-07-01 then the birth_date will be almost exactly in the middle of the year and there will be in the worst case half year error for each of the laureates with edited birth_date. However, this update of nobel table will be done later after we will check if there are some dates on which was born the most laureates."
   ]
  },
  {
   "cell_type": "markdown",
   "id": "029d9643",
   "metadata": {},
   "source": [
    "### Checking of missing values"
   ]
  },
  {
   "cell_type": "code",
   "execution_count": null,
   "id": "c74752ae",
   "metadata": {
    "scrolled": false
   },
   "outputs": [],
   "source": [
    "%%sql\n",
    "/* count total number of rows and number of \"NOT NULL\" values \n",
    "in each column to get overview how complete are the data */\n",
    "\n",
    "SELECT\n",
    "    COUNT(*) AS total_nr,\n",
    "    COUNT(year) AS year,\n",
    "    COUNT(category) AS category,\n",
    "    COUNT(prize) AS prize,\n",
    "    COUNT(motivation) AS motivation,\n",
    "    COUNT(prize_share) AS share,\n",
    "    COUNT(laureate_id) AS laureate_id,\n",
    "    COUNT(laureate_type) AS laureate_type,\n",
    "    COUNT(full_name) AS full_name,\n",
    "    COUNT(birth_date) AS birth_date,\n",
    "    COUNT(birth_city) AS birth_city,\n",
    "    COUNT(birth_country) AS birth_country,\n",
    "    COUNT(sex) AS sex,\n",
    "    COUNT(organization_name) AS organization_name,\n",
    "    COUNT(organization_city) AS organization_city,\n",
    "    COUNT(organization_country) AS organization_country,\n",
    "    COUNT(death_date) AS death_date,\n",
    "    COUNT(death_city) AS death_city,\n",
    "    COUNT(death_country) AS death_country\n",
    "FROM nobel;"
   ]
  },
  {
   "cell_type": "markdown",
   "id": "f6023ab2",
   "metadata": {},
   "source": [
    "### Overview of missing values\n",
    "We can see that currently (Fabruary 2024) was historically awarded 1000 Nobel Prizes. First column with significant amount of missing values is 'motivation'. Further, there are around 40 values missing in columns related to birth. Generally, it would not be surprising if the birth_date or place of birth would be unknow for few people. Most likely, where is missing birth_country there will be also missing information on birth_city, however, it should be checked if the same rows have also problem with missing birth_date. Next we can see that there is missing information on sex at 30 cases which can be due to the fact that some prizes were awarded to institutions. Then, there is significant amount of data missing in columns related to organization and it will be worth of finding out reasons for that. Finally, lots of values are missing in relation to deaths, probably a big portion of awarded people is still alive or the data are not up to date. However, it is not focus of this work to check if any death_date is missing incorrectly and we will just assume that missing death_date means that the person is still alive."
   ]
  },
  {
   "cell_type": "code",
   "execution_count": null,
   "id": "84807fa8",
   "metadata": {
    "scrolled": true
   },
   "outputs": [],
   "source": [
    "%%sql\n",
    "/* check columns with missing data to find out if there is any reason for that\n",
    "or if they have something in common. Lets check motivation column first */\n",
    "\n",
    "SELECT *\n",
    "FROM nobel\n",
    "WHERE motivation IS NULL;"
   ]
  },
  {
   "cell_type": "code",
   "execution_count": null,
   "id": "9c223865",
   "metadata": {},
   "outputs": [],
   "source": [
    "%%sql\n",
    "/* It seems that motivation was not announced for The Nobel Peace Prizes until year 1990.\n",
    "We can double check it by counting missing motivation within Peace category. Indeed, 88+912 = 1000*/\n",
    "SELECT COUNT(*)\n",
    "FROM nobel\n",
    "WHERE motivation IS NULL AND category = 'Peace';"
   ]
  },
  {
   "cell_type": "code",
   "execution_count": null,
   "id": "ac84403b",
   "metadata": {},
   "outputs": [],
   "source": [
    "%%sql\n",
    "/* Was there any Nobel Peace Prize with motivation before 1990? */\n",
    "SELECT *\n",
    "FROM nobel\n",
    "WHERE category = 'Peace' AND motivation IS NOT NULL AND year<1990;"
   ]
  },
  {
   "cell_type": "code",
   "execution_count": null,
   "id": "75120613",
   "metadata": {},
   "outputs": [],
   "source": [
    "%%sql\n",
    "/* check columns with missing data to find out if there is any reason for that\n",
    "or if they have something in common. Lets check birth and sex related columns now */\n",
    "\n",
    "SELECT COUNT(*)\n",
    "FROM nobel\n",
    "WHERE birth_date IS NULL\n",
    "OR birth_city IS NULL\n",
    "OR birth_country IS NULL\n",
    "OR sex IS NULL;"
   ]
  },
  {
   "cell_type": "code",
   "execution_count": null,
   "id": "60eb9a55",
   "metadata": {},
   "outputs": [],
   "source": [
    "%%sql\n",
    "/* From earlier we know that there was 30-40 missing values \n",
    "in each of the columns related to birth or sex. \n",
    "From the result of previous query we can conclude that most of these \n",
    "missing values are occuring on the same rows.\n",
    "Lets see full information if there is anything in common */\n",
    "\n",
    "SELECT *\n",
    "FROM nobel\n",
    "WHERE birth_date IS NULL\n",
    "OR birth_city IS NULL\n",
    "OR birth_country IS NULL\n",
    "OR sex IS NULL;"
   ]
  },
  {
   "cell_type": "code",
   "execution_count": null,
   "id": "a58eca77",
   "metadata": {},
   "outputs": [],
   "source": [
    "%%sql\n",
    "/* Mostly, the laureate_type is organization. \n",
    "In addition, organizations seems to be missing values \n",
    "at organization_name, organization_city, and organization_country column.\n",
    "Lets check if any organization has a birth_date. */\n",
    "\n",
    "SELECT *\n",
    "FROM nobel\n",
    "WHERE laureate_type LIKE 'Org%' AND birth_date IS NOT NULL;"
   ]
  },
  {
   "cell_type": "code",
   "execution_count": null,
   "id": "61481b03",
   "metadata": {},
   "outputs": [],
   "source": [
    "%%sql\n",
    "/* Now, we can look which individuals are missing birth_date */\n",
    "\n",
    "SELECT *\n",
    "FROM nobel\n",
    "WHERE laureate_type LIKE 'Ind%' AND birth_date IS NULL;"
   ]
  },
  {
   "cell_type": "code",
   "execution_count": null,
   "id": "b6b77a83",
   "metadata": {},
   "outputs": [],
   "source": [
    "%%sql\n",
    "/* check columns with missing data to find out if there is any reason for that\n",
    "or if they have something in common. Finally, lets check columns related to \n",
    "organization_name, _city, and _country where was 735 records out of 1000. */\n",
    "\n",
    "SELECT *\n",
    "FROM nobel\n",
    "WHERE organization_name IS NULL\n",
    "OR organization_city IS NULL\n",
    "OR organization_country IS NULL;"
   ]
  },
  {
   "cell_type": "code",
   "execution_count": null,
   "id": "a54f6977",
   "metadata": {},
   "outputs": [],
   "source": [
    "%%sql\n",
    "/* As noticed earlier, organizations are suprisingly missing information\n",
    "in organization_name, _city, and _country columns. Otherwise it seems that the most missing\n",
    "values are related to Nobel Prizes in category of Peace and Literature.\n",
    "Lets check which laureates in these two categories have values at organization columns */\n",
    "\n",
    "SELECT *\n",
    "FROM nobel\n",
    "WHERE (category = 'Peace' OR\n",
    "category = 'Literature')\n",
    "AND (organization_name IS NOT NULL\n",
    "OR organization_city IS NOT NULL\n",
    "OR organization_country IS NOT NULL);"
   ]
  },
  {
   "cell_type": "code",
   "execution_count": null,
   "id": "07b64414",
   "metadata": {},
   "outputs": [],
   "source": [
    "%%sql\n",
    "/* Seems that almost all prizes in category of Peace and all in Literature \n",
    "were given to individuals or organizations who are not part of any organization. \n",
    "LEts briefly check how many prizes was given in each of the two categories \n",
    "to see if it is close to number of missing values (ca 265) in organization columns*/\n",
    "\n",
    "SELECT COUNT(category) AS nr_prizes_in_peace_or_literature\n",
    "FROM nobel\n",
    "WHERE (category = 'Peace' OR\n",
    "category = 'Literature');"
   ]
  },
  {
   "cell_type": "markdown",
   "id": "021351df",
   "metadata": {},
   "source": [
    "### Summary on missing values\n",
    "We found out that motivation of Nobel Prize was not being announced for almost first 90 years of this prize existence. \n",
    "\n",
    "Further, most of the missing values related to birth and sex are connected to awarded organizations and few individuals. While there are only two individuals with missing birth date, the organizations are missing birth dates almost always. However, there are four exceptional records which are assigned as organizations but are clearly related to known individuals such as Dalai Lama or Mother Teresa. Note that missing birth dates in the case of organizations will be beneficial in following analysis when we will calculate lenght of life because it cannot be calculated without birth date; therefore, we can be sure all results will be related to individuals and not to organizations.\n",
    "\n",
    "Finally, values missing in organization columns (_name, _city, _country) belongs to cases where laureate_type is organization or cases where category is peace or literature. Indeed, this makes sense and indicates that organizations in organization columns are scientific institutions where was working awarded individual. Nobel Prizes in peace and literature are not related to scientific research; therefore, there is no organization to add."
   ]
  },
  {
   "cell_type": "markdown",
   "id": "4f1dbbc4",
   "metadata": {},
   "source": [
    "## Let's dive into interesting stuff\n",
    "From now on the cells are focused on finding out interesting information.\n",
    "\n",
    "### Who won the most Nobel Prizes?\n",
    "We will approach this questions from different points of view. We will look on individuals as well as organizations or countries."
   ]
  },
  {
   "cell_type": "code",
   "execution_count": null,
   "id": "23fe699c",
   "metadata": {},
   "outputs": [],
   "source": [
    "%%sql\n",
    "/* Who won more than one Nobel Prize? */\n",
    "\n",
    "SELECT full_name,\n",
    "    COUNT(laureate_id) AS nr_of_prizes,\n",
    "    sex,\n",
    "    birth_date,\n",
    "    death_date,\n",
    "    birth_country,\n",
    "    death_country\n",
    "FROM nobel\n",
    "GROUP BY laureate_id\n",
    "HAVING COUNT(laureate_id)>1\n",
    "ORDER BY nr_of_prizes DESC, birth_date DESC;"
   ]
  },
  {
   "cell_type": "code",
   "execution_count": null,
   "id": "5e55228f",
   "metadata": {},
   "outputs": [],
   "source": [
    "%%sql\n",
    "/* Record holds Red Cross, lets check in which years it was awarded */\n",
    "\n",
    "SELECT \n",
    "    full_name,\n",
    "    year,\n",
    "    category,\n",
    "    prize_share    \n",
    "FROM nobel\n",
    "WHERE full_name LIKE \"%Red Cross%\";"
   ]
  },
  {
   "cell_type": "code",
   "execution_count": null,
   "id": "4efcf6f3",
   "metadata": {
    "scrolled": false
   },
   "outputs": [],
   "source": [
    "%%sql\n",
    "/* From which countries are comming laureates mostly? */\n",
    "\n",
    "SELECT birth_country, COUNT(*) AS nr_prizes_birth\n",
    "FROM nobel\n",
    "WHERE birth_country IS NOT NULL\n",
    "GROUP BY birth_country\n",
    "ORDER BY nr_prizes_birth DESC, birth_country ASC\n",
    "LIMIT 15;"
   ]
  },
  {
   "cell_type": "code",
   "execution_count": null,
   "id": "1a93ea98",
   "metadata": {},
   "outputs": [],
   "source": [
    "%%sql\n",
    "/* How many laureates worked in other country than the country of birth? */\n",
    "\n",
    "WITH country_difference AS(SELECT \n",
    "    CASE WHEN organization_country = birth_country THEN 'Birth and organization in the same country'\n",
    "    WHEN organization_country <> birth_country THEN 'Birth and organization in different countries'\n",
    "    WHEN organization_country IS NULL OR birth_country IS NULL THEN 'Birth or organization country unknown' \n",
    "    ELSE 'unexpected' END AS status \n",
    "    FROM nobel)\n",
    "SELECT status,COUNT(*) AS number_of_prizes\n",
    "FROM country_difference\n",
    "GROUP BY status\n",
    "ORDER BY number_of_prizes DESC;"
   ]
  },
  {
   "cell_type": "code",
   "execution_count": null,
   "id": "fa3eff0f",
   "metadata": {},
   "outputs": [],
   "source": [
    "%%sql\n",
    "/* What is the difference in number of awards by birth_country and organization_country? */\n",
    "\n",
    "WITH organization AS (\n",
    "    SELECT organization_country, COUNT(*) AS nr_prizes_org\n",
    "    FROM nobel\n",
    "    GROUP BY organization_country),\n",
    "birth_nobel AS (\n",
    "    SELECT birth_country, COUNT(*) AS nr_prizes_birth\n",
    "    FROM nobel\n",
    "    GROUP BY birth_country)\n",
    "SELECT organization_country, nr_prizes_org, nr_prizes_birth, (nr_prizes_org-nr_prizes_birth) AS org_over_birth_nr\n",
    "FROM organization AS org\n",
    "JOIN birth_nobel AS birth\n",
    "ON org.organization_country = birth.birth_country\n",
    "ORDER BY org_over_birth_nr DESC;"
   ]
  },
  {
   "cell_type": "code",
   "execution_count": null,
   "id": "410a76db",
   "metadata": {},
   "outputs": [],
   "source": [
    "%%sql\n",
    "/* There are many famous universities and research institutes in the world. \n",
    "How they stand in the number of Nobel Prizes awarded to their scientist? */\n",
    "\n",
    "SELECT\n",
    "    organization_name, \n",
    "    organization_country,\n",
    "    COUNT(*) AS prizes_nr\n",
    "FROM nobel\n",
    "WHERE organization_country IS NOT NULL\n",
    "GROUP BY organization_name\n",
    "HAVING COUNT(*) > 9\n",
    "ORDER BY prizes_nr DESC;"
   ]
  },
  {
   "cell_type": "code",
   "execution_count": null,
   "id": "6af44595",
   "metadata": {},
   "outputs": [],
   "source": [
    "%%sql\n",
    "WITH prizes_org AS (\n",
    "    SELECT COUNT(*) AS prizes_nr\n",
    "    FROM nobel\n",
    "    WHERE organization_country IS NOT NULL\n",
    "    GROUP BY organization_name\n",
    "    HAVING COUNT(*) > 9)\n",
    "SELECT \n",
    "    COUNT(prizes_nr) AS nr_organizations_with_10_or_more_laureates,\n",
    "    SUM(prizes_nr) AS total_nr_prizes_for_top_organizations\n",
    "FROM prizes_org;"
   ]
  },
  {
   "cell_type": "code",
   "execution_count": null,
   "id": "acbfc944",
   "metadata": {},
   "outputs": [],
   "source": [
    "%%sql\n",
    "/* As I am from Czech Republic, we will look up which laureates were from Czechia or worked in Czech organization */\n",
    "\n",
    "SELECT \n",
    "    full_name,\n",
    "    year AS year_awarded,\n",
    "    strftime('%Y', death_date) AS year_of_death,\n",
    "    ROUND((julianday(death_date) - julianday(birth_date))/365.2422,1) AS life_length,\n",
    "    category,\n",
    "    motivation,\n",
    "    birth_country,\n",
    "    organization_country\n",
    "FROM nobel\n",
    "WHERE birth_country LIKE '%Cz%'\n",
    "OR organization_country LIKE '%Cz%'\n",
    "ORDER BY year_awarded ASC;"
   ]
  },
  {
   "cell_type": "markdown",
   "id": "b45109a6",
   "metadata": {},
   "source": [
    "### Is there a day or month to be born which makes you more likely to get Nobel Prize?"
   ]
  },
  {
   "cell_type": "code",
   "execution_count": null,
   "id": "9ab1703b",
   "metadata": {},
   "outputs": [],
   "source": [
    "%%sql\n",
    "/* First, lets look on birthdays. */\n",
    "\n",
    "SELECT\n",
    "strftime('%m/%d',birth_date) AS birthday,\n",
    "COUNT(*) AS nr_people\n",
    "FROM nobel\n",
    "WHERE birthday IS NOT NULL\n",
    "GROUP BY birthday\n",
    "ORDER BY nr_people DESC;"
   ]
  },
  {
   "cell_type": "code",
   "execution_count": null,
   "id": "ec4ee277",
   "metadata": {},
   "outputs": [],
   "source": [
    "%%sql\n",
    "/* There are no dates which would be outliers. Lets look, how are statistics by months */\n",
    "\n",
    "SELECT\n",
    "strftime('%m',birth_date) AS birthday_month,\n",
    "COUNT(*) AS nr_people\n",
    "FROM nobel\n",
    "WHERE birthday_month IS NOT NULL\n",
    "GROUP BY birthday_month\n",
    "ORDER BY nr_people DESC;"
   ]
  },
  {
   "cell_type": "code",
   "execution_count": null,
   "id": "7cce0dce",
   "metadata": {},
   "outputs": [],
   "source": [
    "%%sql\n",
    "/* How are statistics by day of month? */\n",
    "\n",
    "SELECT\n",
    "strftime('%d',birth_date) AS birthday_day,\n",
    "COUNT(*) AS nr_people\n",
    "FROM nobel\n",
    "WHERE birthday_day IS NOT NULL\n",
    "GROUP BY birthday_day\n",
    "ORDER BY nr_people DESC;"
   ]
  },
  {
   "cell_type": "code",
   "execution_count": null,
   "id": "9aa16092",
   "metadata": {},
   "outputs": [],
   "source": [
    "%%sql\n",
    "/* Finally, how are statistics by day of week? */\n",
    "\n",
    "SELECT\n",
    "  case cast (strftime('%w', birth_date) as integer)\n",
    "  WHEN 0 then 'Sunday'\n",
    "  WHEN 1 then 'Monday'\n",
    "  WHEN 2 then 'Tuesday'\n",
    "  WHEN 3 then 'Wednesday'\n",
    "  WHEN 4 then 'Thursday'\n",
    "  WHEN 5 then 'Friday'\n",
    "  ELSE 'Saturday' END AS birth_weekday,\n",
    "COUNT(*) AS nr_people\n",
    "FROM nobel\n",
    "WHERE birth_date IS NOT NULL\n",
    "GROUP BY birth_weekday\n",
    "ORDER BY nr_people DESC;"
   ]
  },
  {
   "cell_type": "markdown",
   "id": "8871b090",
   "metadata": {},
   "source": [
    "### Summary for birthdays\n",
    "We have found that 28th February was the most common birthday between all laureates. Exactly eight people was born on that day. Nevertheless, there are many other dates on which was celebrating birthdays seven or six laureates.\n",
    "\n",
    "Statistics for months are more interesting. It is no surprise that the least laureates was born in the shortest month, February. However, the difference from other months is too large to be explained by 2-3 missing days in comparison to other months. Clearly, we would have to take in count statistics for birth rate to find out if there is born statisticaly more Nobel laureates in any month. But let's take it easy and look the numbers as they are. Most of laureates was born in June and September which have actually only 30 days. \n",
    "\n",
    "Further, there are quite large differences between days of month. The highest number of laureates was born on 23rd (42 laureates). One would expect that the lowest number would be born on 31st (24 laureates) but the lowest number was actually born on 17th (17 laureates). There is no reason to think that any date is better than other and the differences seems to follow normal distribution. We can assume that numbers for each date would be more similar if there would multiple times more laureates than we have today.\n",
    "\n",
    "Finally, for days of week we have only seven options and with almost 1000 of individuals with valid birth date we would expect that numbers for each day could be very similar. Nevertheless, there is much larger amount of laureates born on Saturdays, exactly 165 which is 20 more then on the second most popular day, Tuesday. Then it seems not lucky to be born on Sunday if you want to win a Nobel Prize. On the other hand, as discussed above, the number of laureates is not huge and differences between days of week can be random."
   ]
  },
  {
   "cell_type": "code",
   "execution_count": null,
   "id": "85d8a8ec",
   "metadata": {
    "scrolled": true
   },
   "outputs": [],
   "source": [
    "%%sql\n",
    "/* As we have analyse statistics related to exact dates of birth, we can now\n",
    "do the above discussed update for birth dates which has a format YYYY-00-00. \n",
    "We will substitute the 'month-day' part for first July which is almost exactly in the middle of the year.\n",
    "Therefore, the new arbitrary dates will cause maximum six month error in the further calculations.\n",
    "First, we can check which laureates will be edited. */\n",
    "\n",
    "SELECT \n",
    "birth_date,\n",
    "laureate_id,\n",
    "strftime('%Y',birth_date) AS year_born,\n",
    "full_name\n",
    "FROM nobel\n",
    "WHERE birth_date IS NOT NULL AND year_born IS NULL\n",
    "ORDER BY birth_date;"
   ]
  },
  {
   "cell_type": "code",
   "execution_count": null,
   "id": "b896ea00",
   "metadata": {},
   "outputs": [],
   "source": [
    "%%sql\n",
    "/* Do the update of birth_date! */\n",
    "\n",
    "UPDATE nobel\n",
    "SET birth_date = substr(birth_date, 1, 4) || '-07-01'\n",
    "WHERE laureate_id IN (SELECT laureate_id FROM nobel WHERE birth_date IS NOT NULL AND strftime('%Y',birth_date) IS NULL);"
   ]
  },
  {
   "cell_type": "code",
   "execution_count": null,
   "id": "4ba0d110",
   "metadata": {},
   "outputs": [],
   "source": [
    "%%sql\n",
    "/* Check the result of update. There should be no record for the conditions now. */\n",
    "\n",
    "SELECT \n",
    "birth_date,\n",
    "strftime('%Y',birth_date) AS year_born,\n",
    "full_name\n",
    "FROM nobel\n",
    "WHERE birth_date IS NOT NULL AND year_born IS NULL\n",
    "ORDER BY birth_date;"
   ]
  },
  {
   "cell_type": "code",
   "execution_count": null,
   "id": "9aa00c21",
   "metadata": {},
   "outputs": [],
   "source": [
    "%%sql\n",
    "/* Now we can check laureates born on first July. */\n",
    "\n",
    "SELECT \n",
    "birth_date,\n",
    "strftime('%m/%d',birth_date) AS date_born,\n",
    "full_name\n",
    "FROM nobel\n",
    "WHERE date_born = '07/01'\n",
    "ORDER BY birth_date;"
   ]
  },
  {
   "cell_type": "markdown",
   "id": "8b54725d",
   "metadata": {},
   "source": [
    "### What is the average age of Nobel laureates and other age related statistics\n",
    "Now, our data were cleaned in the birth_date column and we can use it to calculate age related statistics."
   ]
  },
  {
   "cell_type": "code",
   "execution_count": null,
   "id": "bfc9cb70",
   "metadata": {
    "scrolled": true
   },
   "outputs": [],
   "source": [
    "%%sql\n",
    "/* Who was the earliest and the latest born laureate so far? */\n",
    "SELECT\n",
    "    full_name,\n",
    "    sex,\n",
    "    category,\n",
    "    birth_country,\n",
    "    birth_date,\n",
    "    year AS year_awarded,\n",
    "    motivation\n",
    "FROM nobel\n",
    "WHERE birth_date = (SELECT MIN(birth_date) FROM nobel) \n",
    "OR birth_date = (SELECT MAX(birth_date) FROM nobel);"
   ]
  },
  {
   "cell_type": "code",
   "execution_count": null,
   "id": "90930156",
   "metadata": {
    "scrolled": true
   },
   "outputs": [],
   "source": [
    "%%sql\n",
    "/* What is average age of laureates by category since year 1901? */\n",
    "\n",
    "SELECT \n",
    "    category,\n",
    "    ROUND(AVG(year - strftime('%Y', birth_date)),1) AS age_when_awarded\n",
    "FROM nobel\n",
    "GROUP BY category\n",
    "ORDER BY age_when_awarded DESC;"
   ]
  },
  {
   "cell_type": "code",
   "execution_count": null,
   "id": "01881086",
   "metadata": {},
   "outputs": [],
   "source": [
    "%%sql\n",
    "/* What was average age of laureates when they were awarded and how was this number changing in time (by decades)? */\n",
    "\n",
    "SELECT\n",
    "  CAST(FLOOR(year / 10) * 10 AS TEXT) || 's' AS decade,\n",
    "    ROUND(AVG(year - strftime('%Y', birth_date)),1) AS age_when_awarded\n",
    "FROM nobel\n",
    "GROUP BY decade;"
   ]
  },
  {
   "cell_type": "code",
   "execution_count": null,
   "id": "af4fe36f",
   "metadata": {},
   "outputs": [],
   "source": [
    "%%sql\n",
    "/* Lets check, how was the average age in each category changing through the decades. */\n",
    "\n",
    "SELECT\n",
    "  CAST(FLOOR(year / 10) * 10 AS TEXT) || 's' AS decade,\n",
    "    ROUND(AVG(CASE WHEN category='Physics' THEN year-strftime('%Y', birth_date) ELSE NULL END),1) AS Physics,\n",
    "    ROUND(AVG(CASE WHEN category='Chemistry' THEN year-strftime('%Y', birth_date) ELSE NULL END),1) AS Chemistry,\n",
    "    ROUND(AVG(CASE WHEN category='Medicine' THEN year-strftime('%Y', birth_date) ELSE NULL END),1) AS Medicine,\n",
    "    ROUND(AVG(CASE WHEN category='Literature' THEN year-strftime('%Y', birth_date) ELSE NULL END),1) AS Literature,\n",
    "    ROUND(AVG(CASE WHEN category='Peace' THEN year-strftime('%Y', birth_date) ELSE NULL END),1) AS Peace,\n",
    "    ROUND(AVG(CASE WHEN category='Economics' THEN year-strftime('%Y', birth_date) ELSE NULL END),1) AS Economics\n",
    "FROM nobel\n",
    "GROUP BY decade;"
   ]
  },
  {
   "cell_type": "code",
   "execution_count": null,
   "id": "20b45d2b",
   "metadata": {},
   "outputs": [],
   "source": [
    "%%sql\n",
    "/* Who was the oldest when awarded? */\n",
    "\n",
    "SELECT \n",
    "    year - strftime('%Y', birth_date) AS age_when_awarded,\n",
    "    full_name,\n",
    "    year,\n",
    "    category,\n",
    "    motivation,\n",
    "    birth_country,\n",
    "    organization_country\n",
    "FROM nobel\n",
    "WHERE age_when_awarded IS NOT NULL\n",
    "ORDER BY age_when_awarded DESC\n",
    "LIMIT 5;"
   ]
  },
  {
   "cell_type": "code",
   "execution_count": null,
   "id": "cef64c37",
   "metadata": {},
   "outputs": [],
   "source": [
    "%%sql\n",
    "/* Who was the youngest when awarded? */\n",
    "\n",
    "SELECT \n",
    "    year - strftime('%Y', birth_date) AS age_when_awarded,\n",
    "    full_name,\n",
    "    year,\n",
    "    category,\n",
    "    motivation,\n",
    "    birth_country,\n",
    "    organization_country\n",
    "FROM nobel\n",
    "WHERE age_when_awarded IS NOT NULL\n",
    "ORDER BY age_when_awarded ASC\n",
    "LIMIT 5;"
   ]
  },
  {
   "cell_type": "code",
   "execution_count": null,
   "id": "741bd65c",
   "metadata": {
    "scrolled": true
   },
   "outputs": [],
   "source": [
    "%%sql\n",
    "/* Which Nobel laureates had the shortest life? */\n",
    "\n",
    "SELECT \n",
    "    ROUND((julianday(death_date) - julianday(birth_date))/365.2422,1) AS life_length,\n",
    "    full_name,\n",
    "    year AS year_awarded,\n",
    "    strftime('%Y', death_date) AS year_of_death,\n",
    "    category,\n",
    "    motivation,\n",
    "    birth_country,\n",
    "    organization_country\n",
    "FROM nobel\n",
    "WHERE life_length IS NOT NULL\n",
    "ORDER BY life_length ASC\n",
    "LIMIT 5;"
   ]
  },
  {
   "cell_type": "code",
   "execution_count": null,
   "id": "206b4da5",
   "metadata": {},
   "outputs": [],
   "source": [
    "%%sql\n",
    "/* Which of deceased Nobel laureates had the longest life so far? */\n",
    "\n",
    "SELECT \n",
    "    ROUND((julianday(death_date) - julianday(birth_date))/365.2422,1) AS life_length,\n",
    "    full_name,\n",
    "    year AS year_awarded,\n",
    "    strftime('%Y', death_date) AS year_of_death,\n",
    "    category,\n",
    "    motivation,\n",
    "    birth_country,\n",
    "    organization_country\n",
    "FROM nobel\n",
    "WHERE life_length IS NOT NULL\n",
    "ORDER BY life_length DESC\n",
    "LIMIT 5;"
   ]
  },
  {
   "cell_type": "code",
   "execution_count": null,
   "id": "74e34539",
   "metadata": {},
   "outputs": [],
   "source": [
    "%%sql\n",
    "/* Who are the oldest currently living laureates and how old are they? */\n",
    "\n",
    "SELECT \n",
    "    full_name,\n",
    "    birth_date,\n",
    "    year AS year_awarded,\n",
    "    ROUND(year - strftime('%Y', birth_date),0) AS age_when_awarded,\n",
    "    ROUND((julianday('now') - julianday(birth_date))/365.2422,1) AS current_age,\n",
    "    category,\n",
    "    motivation,\n",
    "    birth_country,\n",
    "    organization_country\n",
    "FROM nobel\n",
    "WHERE death_date IS NULL AND birth_date IS NOT NULL\n",
    "ORDER BY current_age DESC\n",
    "LIMIT 5;"
   ]
  },
  {
   "cell_type": "code",
   "execution_count": null,
   "id": "42f90497",
   "metadata": {},
   "outputs": [],
   "source": [
    "%%sql\n",
    "/* Unfortunately, after quick check of nymes by google, it seems that all,\n",
    "supposedly living laureates, in the previous table are actually deceased. \n",
    "This means that death dates are not updated frequently or properly in the Noble dataset\n",
    "and we cannot rely that missing values means that laureate is still alive.\n",
    "\n",
    "However, lets assume for a moment that the Nobel dataset is up to date and count \n",
    "how many living laureates are over age of 90. */\n",
    "\n",
    "SELECT\n",
    "    COUNT(*) AS living_winners_over_age_90\n",
    "FROM nobel\n",
    "WHERE death_date IS NULL \n",
    "AND birth_date IS NOT NULL \n",
    "AND ((julianday('now') - julianday(birth_date))/365.2422)>90;"
   ]
  },
  {
   "cell_type": "code",
   "execution_count": null,
   "id": "550c765c",
   "metadata": {
    "scrolled": true
   },
   "outputs": [],
   "source": [
    "%%sql\n",
    "/* As shown earlier, most people becomes laureates in a age where most of us finishing our careers.\n",
    "Lets look who enjoyed to be Nobel laureate longest. \n",
    "In other words who lived (or still lives) longest after being awarded. \n",
    "Note: M.Eigen and M. Gell-Mann does not have death date in the Nobel dataset \n",
    "and they were removed after checking their death dates and calculating real value \n",
    "for years_lived_since_awarded which was too low to provide them place in this \"TOP 10\" */\n",
    "\n",
    "SELECT \n",
    "    full_name,\n",
    "    birth_date,\n",
    "    year AS year_awarded,\n",
    "    ROUND(year - strftime('%Y', birth_date),0) AS age_when_awarded,\n",
    "    CASE WHEN death_date IS NULL THEN 'alive'\n",
    "    WHEN death_date IS NOT NULL THEN 'deceased' END AS dead_or_alive,\n",
    "    CASE WHEN death_date IS NULL THEN ROUND((julianday('now') - julianday(birth_date))/365.2422,1)\n",
    "    WHEN death_date IS NOT NULL THEN ROUND((julianday(death_date) - julianday(birth_date))/365.2422,1) END AS life_length,\n",
    "    CASE WHEN death_date IS NULL THEN (strftime('%Y', 'now') - year)\n",
    "    WHEN death_date IS NOT NULL THEN (strftime('%Y', death_date) - year) END AS years_lived_since_awarded,\n",
    "    category\n",
    "FROM nobel\n",
    "WHERE birth_date IS NOT NULL AND full_name NOT IN ('Manfred Eigen', 'Murray Gell-Mann')\n",
    "ORDER BY years_lived_since_awarded DESC\n",
    "LIMIT 10;"
   ]
  },
  {
   "cell_type": "markdown",
   "id": "1650b77c",
   "metadata": {},
   "source": [
    "## Conclusions\n",
    "In this notebook, we employed SQLite to analyse Nobel Prize Dataset. Data was imported from csv file and database was created. Then we checked data if any cleaning is necessary. This was done by focusing on birth and death dates and also by checking count of missing values in each column. Mostly, there was simple and clear explanations for missing values but there were some faulty birth dates which we substituted (updated) for first July. In the analysis, the main focus was on number of laureates and organizations awarded in different countries and later we calculated various statistics related to age. The effort to find the oldest currently living laureate helped us to find out that death dates in the Nobel dataset are often missing.\n",
    "\n",
    "In summary, we can say that USA is the most successful country from the point of laureates born or working in there. Also, it seems that laureates are usually awarded in rather older age and quite a number of them lived very long lives. "
   ]
  }
 ],
 "metadata": {
  "kernelspec": {
   "display_name": "Python 3 (ipykernel)",
   "language": "python",
   "name": "python3"
  },
  "language_info": {
   "codemirror_mode": {
    "name": "ipython",
    "version": 3
   },
   "file_extension": ".py",
   "mimetype": "text/x-python",
   "name": "python",
   "nbconvert_exporter": "python",
   "pygments_lexer": "ipython3",
   "version": "3.9.13"
  }
 },
 "nbformat": 4,
 "nbformat_minor": 5
}
